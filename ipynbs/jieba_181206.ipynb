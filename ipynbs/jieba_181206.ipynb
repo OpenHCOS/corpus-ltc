{
  "nbformat": 4,
  "nbformat_minor": 0,
  "metadata": {
    "colab": {
      "name": "jieba-181206.ipynb",
      "version": "0.3.2",
      "provenance": []
    },
    "kernelspec": {
      "name": "python3",
      "display_name": "Python 3"
    }
  },
  "cells": [
    {
      "metadata": {
        "id": "NHVSLz6cX0ii",
        "colab_type": "code",
        "outputId": "ca538d46-ba60-40b7-d09a-2d68ea149942",
        "colab": {
          "base_uri": "https://localhost:8080/",
          "height": 323
        }
      },
      "cell_type": "code",
      "source": [
        "! pip install jieba\n",
        "! pip install tensorflow"
      ],
      "execution_count": 0,
      "outputs": [
        {
          "output_type": "stream",
          "text": [
            "Requirement already satisfied: jieba in /usr/local/lib/python3.6/dist-packages (0.39)\n",
            "Requirement already satisfied: tensorflow in /usr/local/lib/python3.6/dist-packages (1.12.0)\n",
            "Requirement already satisfied: protobuf>=3.6.1 in /usr/local/lib/python3.6/dist-packages (from tensorflow) (3.6.1)\n",
            "Requirement already satisfied: numpy>=1.13.3 in /usr/local/lib/python3.6/dist-packages (from tensorflow) (1.14.6)\n",
            "Requirement already satisfied: keras-applications>=1.0.6 in /usr/local/lib/python3.6/dist-packages (from tensorflow) (1.0.6)\n",
            "Requirement already satisfied: tensorboard<1.13.0,>=1.12.0 in /usr/local/lib/python3.6/dist-packages (from tensorflow) (1.12.0)\n",
            "Requirement already satisfied: wheel>=0.26 in /usr/local/lib/python3.6/dist-packages (from tensorflow) (0.32.3)\n",
            "Requirement already satisfied: six>=1.10.0 in /usr/local/lib/python3.6/dist-packages (from tensorflow) (1.11.0)\n",
            "Requirement already satisfied: termcolor>=1.1.0 in /usr/local/lib/python3.6/dist-packages (from tensorflow) (1.1.0)\n",
            "Requirement already satisfied: gast>=0.2.0 in /usr/local/lib/python3.6/dist-packages (from tensorflow) (0.2.0)\n",
            "Requirement already satisfied: astor>=0.6.0 in /usr/local/lib/python3.6/dist-packages (from tensorflow) (0.7.1)\n",
            "Requirement already satisfied: keras-preprocessing>=1.0.5 in /usr/local/lib/python3.6/dist-packages (from tensorflow) (1.0.5)\n",
            "Requirement already satisfied: absl-py>=0.1.6 in /usr/local/lib/python3.6/dist-packages (from tensorflow) (0.6.1)\n",
            "Requirement already satisfied: grpcio>=1.8.6 in /usr/local/lib/python3.6/dist-packages (from tensorflow) (1.15.0)\n",
            "Requirement already satisfied: setuptools in /usr/local/lib/python3.6/dist-packages (from protobuf>=3.6.1->tensorflow) (40.6.2)\n",
            "Requirement already satisfied: h5py in /usr/local/lib/python3.6/dist-packages (from keras-applications>=1.0.6->tensorflow) (2.8.0)\n",
            "Requirement already satisfied: markdown>=2.6.8 in /usr/local/lib/python3.6/dist-packages (from tensorboard<1.13.0,>=1.12.0->tensorflow) (3.0.1)\n",
            "Requirement already satisfied: werkzeug>=0.11.10 in /usr/local/lib/python3.6/dist-packages (from tensorboard<1.13.0,>=1.12.0->tensorflow) (0.14.1)\n"
          ],
          "name": "stdout"
        }
      ]
    },
    {
      "metadata": {
        "id": "EO16IayXkG71",
        "colab_type": "text"
      },
      "cell_type": "markdown",
      "source": [
        "- fxsjy/jieba: 结巴中文分词 https://github.com/fxsjy/jieba\n",
        "- cutejaneii/jieba_api: simple jieba api (python) https://github.com/cutejaneii/jieba_api\n",
        "- https://github.com/sea-boat/DeepLearning-Lab/blob/master/word2vec_test.py\n"
      ]
    },
    {
      "metadata": {
        "id": "INraN2r2uwcC",
        "colab_type": "code",
        "outputId": "0e35e17d-f115-44b8-f789-bfdc0eb299a7",
        "colab": {
          "base_uri": "https://localhost:8080/",
          "height": 289
        }
      },
      "cell_type": "code",
      "source": [
        "! wget -O cutejaneii-jieba-dict.txt https://github.com/cutejaneii/jieba_api/raw/master/userdict.txt"
      ],
      "execution_count": 0,
      "outputs": [
        {
          "output_type": "stream",
          "text": [
            "--2018-12-06 04:03:13--  https://github.com/cutejaneii/jieba_api/raw/master/userdict.txt\n",
            "Resolving github.com (github.com)... 192.30.253.113, 192.30.253.112\n",
            "Connecting to github.com (github.com)|192.30.253.113|:443... connected.\n",
            "HTTP request sent, awaiting response... 302 Found\n",
            "Location: https://raw.githubusercontent.com/cutejaneii/jieba_api/master/userdict.txt [following]\n",
            "--2018-12-06 04:03:13--  https://raw.githubusercontent.com/cutejaneii/jieba_api/master/userdict.txt\n",
            "Resolving raw.githubusercontent.com (raw.githubusercontent.com)... 151.101.0.133, 151.101.64.133, 151.101.128.133, ...\n",
            "Connecting to raw.githubusercontent.com (raw.githubusercontent.com)|151.101.0.133|:443... connected.\n",
            "HTTP request sent, awaiting response... 200 OK\n",
            "Length: 2852361 (2.7M) [text/plain]\n",
            "Saving to: ‘cutejaneii-jieba-dict.txt’\n",
            "\n",
            "cutejaneii-jieba-di 100%[===================>]   2.72M  10.0MB/s    in 0.3s    \n",
            "\n",
            "2018-12-06 04:03:14 (10.0 MB/s) - ‘cutejaneii-jieba-dict.txt’ saved [2852361/2852361]\n",
            "\n"
          ],
          "name": "stdout"
        }
      ]
    },
    {
      "metadata": {
        "id": "QEdcasjrYNmn",
        "colab_type": "code",
        "colab": {}
      },
      "cell_type": "code",
      "source": [
        "import jieba\n",
        "import tensorflow as tf\n",
        "def testCut(str):\n",
        "  seg_list = jieba.cut(str)\n",
        "  print(\"Default Mode: \" + \"/ \".join(seg_list))\n",
        "def testCutAll(str):\n",
        "  seg_list = jieba.cut(str,cut_all=True)\n",
        "  print(\"Full Mode: \" + \"/ \".join(seg_list))"
      ],
      "execution_count": 0,
      "outputs": []
    },
    {
      "metadata": {
        "id": "RDkSpAXmvPlg",
        "colab_type": "code",
        "outputId": "eb9f4207-a500-4576-f8fa-9cc4f917b462",
        "colab": {
          "base_uri": "https://localhost:8080/",
          "height": 119
        }
      },
      "cell_type": "code",
      "source": [
        "jieba.load_userdict(\"cutejaneii-jieba-dict.txt\") \n",
        "target=\"台中長照一級棒\"\n",
        "testCut(target)\n",
        "testCutAll(target)"
      ],
      "execution_count": 0,
      "outputs": [
        {
          "output_type": "stream",
          "text": [
            "Building prefix dict from the default dictionary ...\n",
            "Loading model from cache /tmp/jieba.cache\n",
            "Loading model cost 0.938 seconds.\n",
            "Prefix dict has been built succesfully.\n"
          ],
          "name": "stderr"
        },
        {
          "output_type": "stream",
          "text": [
            "Default Mode: 台中/ 長/ 照/ 一級棒\n",
            "Full Mode: 台中/ 長/ 照/ 一級棒\n"
          ],
          "name": "stdout"
        }
      ]
    },
    {
      "metadata": {
        "id": "9PUfaGJMqUnj",
        "colab_type": "code",
        "outputId": "6afcfde7-2af2-4167-83c0-1fe49405b0a4",
        "colab": {
          "base_uri": "https://localhost:8080/",
          "height": 238
        }
      },
      "cell_type": "code",
      "source": [
        "! wget -O ltc1812.txt https://raw.githubusercontent.com/OpenHCOS/corpus-ltc/master/dict/ltc1812.txt\n",
        "! ls -al *.txt"
      ],
      "execution_count": 0,
      "outputs": [
        {
          "output_type": "stream",
          "text": [
            "--2018-12-06 04:03:19--  https://raw.githubusercontent.com/OpenHCOS/corpus-ltc/master/dict/ltc1812.txt\n",
            "Resolving raw.githubusercontent.com (raw.githubusercontent.com)... 151.101.0.133, 151.101.64.133, 151.101.128.133, ...\n",
            "Connecting to raw.githubusercontent.com (raw.githubusercontent.com)|151.101.0.133|:443... connected.\n",
            "HTTP request sent, awaiting response... 200 OK\n",
            "Length: 174 [text/plain]\n",
            "Saving to: ‘ltc1812.txt’\n",
            "\n",
            "\rltc1812.txt           0%[                    ]       0  --.-KB/s               \rltc1812.txt         100%[===================>]     174  --.-KB/s    in 0s      \n",
            "\n",
            "2018-12-06 04:03:19 (10.4 MB/s) - ‘ltc1812.txt’ saved [174/174]\n",
            "\n",
            "-rw-r--r-- 1 root root 2852361 Dec  6 04:03 cutejaneii-jieba-dict.txt\n",
            "-rw-r--r-- 1 root root     174 Dec  6 04:03 ltc1812.txt\n"
          ],
          "name": "stdout"
        }
      ]
    },
    {
      "metadata": {
        "id": "z6WBnxZHY9Cf",
        "colab_type": "code",
        "outputId": "6822584b-304c-4f0a-db00-505e1fdea1df",
        "colab": {
          "base_uri": "https://localhost:8080/",
          "height": 51
        }
      },
      "cell_type": "code",
      "source": [
        "jieba.load_userdict(\"ltc1812.txt\")\n",
        "testCut(target)\n",
        "testCutAll(target)"
      ],
      "execution_count": 0,
      "outputs": [
        {
          "output_type": "stream",
          "text": [
            "Default Mode: 台中/ 長照/ 一級棒\n",
            "Full Mode: 台中/ 長照/ 一級/ 一級棒\n"
          ],
          "name": "stdout"
        }
      ]
    }
  ]
}