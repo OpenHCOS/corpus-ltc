{
  "nbformat": 4,
  "nbformat_minor": 0,
  "metadata": {
    "colab": {
      "name": "jieba-corpus-ltc181202.ipynb",
      "version": "0.3.2",
      "provenance": []
    },
    "kernelspec": {
      "name": "python3",
      "display_name": "Python 3"
    }
  },
  "cells": [
    {
      "metadata": {
        "id": "NHVSLz6cX0ii",
        "colab_type": "code",
        "outputId": "a6e20f63-0533-4141-e2d1-bace524ab8f6",
        "colab": {
          "base_uri": "https://localhost:8080/",
          "height": 221
        }
      },
      "cell_type": "code",
      "source": [
        "! pip install jieba\n",
        "! wget https://raw.githubusercontent.com/OpenHCOS/corpus-ltc/master/dict/ltc1812.txt"
      ],
      "execution_count": 1,
      "outputs": [
        {
          "output_type": "stream",
          "text": [
            "Requirement already satisfied: jieba in /usr/local/lib/python3.6/dist-packages (0.39)\n",
            "--2018-12-02 01:08:39--  https://raw.githubusercontent.com/OpenHCOS/corpus-ltc/master/dict/ltc1812.txt\n",
            "Resolving raw.githubusercontent.com (raw.githubusercontent.com)... 151.101.0.133, 151.101.64.133, 151.101.128.133, ...\n",
            "Connecting to raw.githubusercontent.com (raw.githubusercontent.com)|151.101.0.133|:443... connected.\n",
            "HTTP request sent, awaiting response... 200 OK\n",
            "Length: 13 [text/plain]\n",
            "Saving to: ‘ltc1812.txt’\n",
            "\n",
            "ltc1812.txt         100%[===================>]      13  --.-KB/s    in 0s      \n",
            "\n",
            "2018-12-02 01:08:39 (1.27 MB/s) - ‘ltc1812.txt’ saved [13/13]\n",
            "\n"
          ],
          "name": "stdout"
        }
      ]
    },
    {
      "metadata": {
        "id": "QEdcasjrYNmn",
        "colab_type": "code",
        "outputId": "6b352ab2-36c4-45c1-c9fa-7ed3d7db4ab3",
        "colab": {
          "base_uri": "https://localhost:8080/",
          "height": 102
        }
      },
      "cell_type": "code",
      "source": [
        "import jieba\n",
        "def testCut():\n",
        "  seg_list = jieba.cut(\"台中長照一級棒\", cut_all=True)\n",
        "  print(\"Full Mode: \" + \"/ \".join(seg_list)) \n",
        "testCut()"
      ],
      "execution_count": 2,
      "outputs": [
        {
          "output_type": "stream",
          "text": [
            "Building prefix dict from the default dictionary ...\n",
            "Loading model from cache /tmp/jieba.cache\n",
            "Loading model cost 0.908 seconds.\n",
            "Prefix dict has been built succesfully.\n"
          ],
          "name": "stderr"
        },
        {
          "output_type": "stream",
          "text": [
            "Full Mode: 台中/ 長/ 照/ 一/ 級/ 棒\n"
          ],
          "name": "stdout"
        }
      ]
    },
    {
      "metadata": {
        "id": "z6WBnxZHY9Cf",
        "colab_type": "code",
        "outputId": "bcf47d7f-3915-4e9f-9c85-829ed01d74e9",
        "colab": {
          "base_uri": "https://localhost:8080/",
          "height": 34
        }
      },
      "cell_type": "code",
      "source": [
        "jieba.load_userdict(\"ltc1812.txt\")\n",
        "testCut()"
      ],
      "execution_count": 3,
      "outputs": [
        {
          "output_type": "stream",
          "text": [
            "Full Mode: 台中/ 長照/ 一級/ 棒\n"
          ],
          "name": "stdout"
        }
      ]
    }
  ]
}