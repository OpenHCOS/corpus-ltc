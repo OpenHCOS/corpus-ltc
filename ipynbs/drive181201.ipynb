{
  "nbformat": 4,
  "nbformat_minor": 0,
  "metadata": {
    "colab": {
      "name": "drive.ipynb",
      "version": "0.3.2",
      "provenance": []
    },
    "kernelspec": {
      "name": "python3",
      "display_name": "Python 3"
    }
  },
  "cells": [
    {
      "metadata": {
        "id": "7HGB2tF1P961",
        "colab_type": "text"
      },
      "cell_type": "markdown",
      "source": [
        "掛載雲端硬碟到colab\n",
        "\n",
        "https://colab.research.google.com/notebooks/io.ipynb"
      ]
    },
    {
      "metadata": {
        "id": "I7gX_xiiL5jP",
        "colab_type": "code",
        "colab": {}
      },
      "cell_type": "code",
      "source": [
        "from google.colab import drive\n",
        "drive.mount('/drive')\n"
      ],
      "execution_count": 0,
      "outputs": []
    },
    {
      "metadata": {
        "id": "-6KYess4ReWG",
        "colab_type": "text"
      },
      "cell_type": "markdown",
      "source": [
        "注意路徑My Drive需要寫法"
      ]
    },
    {
      "metadata": {
        "id": "H60cZ7YTMmhW",
        "colab_type": "code",
        "colab": {
          "base_uri": "https://localhost:8080/",
          "height": 85
        },
        "outputId": "594fc65e-a463-4ce3-9901-df01967a4d2f"
      },
      "cell_type": "code",
      "source": [
        "!ls -al /drive/'My Drive'/openhcos"
      ],
      "execution_count": 25,
      "outputs": [
        {
          "output_type": "stream",
          "text": [
            "total 222\n",
            "-rw------- 1 root root     43 Dec  1 10:19  foo.txt\n",
            "drwx------ 2 root root   4096 Nov 27 09:56  temp181127\n",
            "-rw------- 1 root root 222366 Nov 30 10:53 '(全部)長照服務資料交換標準1070501.odt'\n"
          ],
          "name": "stdout"
        }
      ]
    },
    {
      "metadata": {
        "id": "qvH9-xdRO88O",
        "colab_type": "code",
        "colab": {
          "base_uri": "https://localhost:8080/",
          "height": 102
        },
        "outputId": "82fc2a74-fbb6-4e72-dba0-d457452b9170"
      },
      "cell_type": "code",
      "source": [
        "with open('/drive/My Drive/openhcos/foo.txt', 'w') as f:\n",
        "  f.write('Hello Google Drive and openhcos/corpus-ltc!')\n",
        "!ls -al /drive/My\\ Drive/openhcos\n",
        "!cat /drive/My\\ Drive/openhcos/foo.txt"
      ],
      "execution_count": 15,
      "outputs": [
        {
          "output_type": "stream",
          "text": [
            "total 222\n",
            "-rw------- 1 root root     43 Dec  1 10:19  foo.txt\n",
            "drwx------ 2 root root   4096 Nov 27 09:56  temp181127\n",
            "-rw------- 1 root root 222366 Nov 30 10:53 '(全部)長照服務資料交換標準1070501.odt'\n",
            "Hello Google Drive and openhcos/corpus-ltc!"
          ],
          "name": "stdout"
        }
      ]
    },
    {
      "metadata": {
        "id": "sIadkiP8Uh33",
        "colab_type": "code",
        "colab": {
          "base_uri": "https://localhost:8080/",
          "height": 51
        },
        "outputId": "53a2d714-fd88-4e68-b64b-31e7db3a9ec1"
      },
      "cell_type": "code",
      "source": [
        "! ls -al /drive/My\\ Drive/Colab\\ Notebooks/"
      ],
      "execution_count": 19,
      "outputs": [
        {
          "output_type": "stream",
          "text": [
            "total 4\n",
            "-rw------- 1 root root 3197 Dec  1 10:31 drive.ipynb\n"
          ],
          "name": "stdout"
        }
      ]
    }
  ]
}