{
  "nbformat": 4,
  "nbformat_minor": 0,
  "metadata": {
    "colab": {
      "name": "jieba-big181202.ipynb",
      "version": "0.3.2",
      "provenance": []
    },
    "kernelspec": {
      "name": "python3",
      "display_name": "Python 3"
    }
  },
  "cells": [
    {
      "metadata": {
        "id": "NHVSLz6cX0ii",
        "colab_type": "code",
        "colab": {}
      },
      "cell_type": "code",
      "source": [
        "! pip install jieba"
      ],
      "execution_count": 0,
      "outputs": []
    },
    {
      "metadata": {
        "id": "INraN2r2uwcC",
        "colab_type": "code",
        "colab": {
          "base_uri": "https://localhost:8080/",
          "height": 289
        },
        "outputId": "95de9ba4-3634-48f7-b2d4-f2a04f2771bf"
      },
      "cell_type": "code",
      "source": [
        "! wget https://github.com/fxsjy/jieba/raw/master/extra_dict/dict.txt.big"
      ],
      "execution_count": 1,
      "outputs": [
        {
          "output_type": "stream",
          "text": [
            "--2018-12-02 02:24:41--  https://github.com/fxsjy/jieba/raw/master/extra_dict/dict.txt.big\n",
            "Resolving github.com (github.com)... 192.30.255.113, 192.30.255.112\n",
            "Connecting to github.com (github.com)|192.30.255.113|:443... connected.\n",
            "HTTP request sent, awaiting response... 302 Found\n",
            "Location: https://raw.githubusercontent.com/fxsjy/jieba/master/extra_dict/dict.txt.big [following]\n",
            "--2018-12-02 02:24:42--  https://raw.githubusercontent.com/fxsjy/jieba/master/extra_dict/dict.txt.big\n",
            "Resolving raw.githubusercontent.com (raw.githubusercontent.com)... 151.101.0.133, 151.101.64.133, 151.101.128.133, ...\n",
            "Connecting to raw.githubusercontent.com (raw.githubusercontent.com)|151.101.0.133|:443... connected.\n",
            "HTTP request sent, awaiting response... 200 OK\n",
            "Length: 8583143 (8.2M) [text/plain]\n",
            "Saving to: ‘dict.txt.big’\n",
            "\n",
            "dict.txt.big        100%[===================>]   8.18M  --.-KB/s    in 0.09s   \n",
            "\n",
            "2018-12-02 02:24:42 (94.8 MB/s) - ‘dict.txt.big’ saved [8583143/8583143]\n",
            "\n"
          ],
          "name": "stdout"
        }
      ]
    },
    {
      "metadata": {
        "id": "QEdcasjrYNmn",
        "colab_type": "code",
        "outputId": "8b4a7679-7129-4f15-e883-8c081ed3e5cb",
        "colab": {
          "base_uri": "https://localhost:8080/",
          "height": 119
        }
      },
      "cell_type": "code",
      "source": [
        "import jieba\n",
        "def testCut(str):\n",
        "  seg_list = jieba.cut(str)\n",
        "  print(\"Full Mode: \" + \"/ \".join(seg_list))\n",
        "def testCutAll(str):\n",
        "  seg_list = jieba.cut(str,cut_all=True)\n",
        "  print(\"Full Mode: \" + \"/ \".join(seg_list))\n",
        "target=\"台中長照照專一級棒\"\n",
        "testCut(target)\n",
        "testCutAll(target)"
      ],
      "execution_count": 11,
      "outputs": [
        {
          "output_type": "stream",
          "text": [
            "Building prefix dict from /content/dict.txt.big ...\n",
            "Loading model from cache /tmp/jieba.u501edca284da514cb68b53a20324f4e3.cache\n",
            "Loading model cost 1.701 seconds.\n",
            "Prefix dict has been built succesfully.\n"
          ],
          "name": "stderr"
        },
        {
          "output_type": "stream",
          "text": [
            "Full Mode: 台/ 中長/ 照照/ 專一/ 級/ 棒\n",
            "Full Mode: 台中/ 中長/ 照/ 照/ 專一/ 一級/ 棒\n"
          ],
          "name": "stdout"
        }
      ]
    },
    {
      "metadata": {
        "id": "wPkprqfrxzzZ",
        "colab_type": "code",
        "colab": {
          "base_uri": "https://localhost:8080/",
          "height": 221
        },
        "outputId": "5e41b266-795e-44be-bc31-67de5c8669f4"
      },
      "cell_type": "code",
      "source": [
        "! wget -N https://raw.githubusercontent.com/OpenHCOS/corpus-ltc/master/dict/ltc1812.txt"
      ],
      "execution_count": 16,
      "outputs": [
        {
          "output_type": "stream",
          "text": [
            "--2018-12-02 02:39:45--  https://raw.githubusercontent.com/OpenHCOS/corpus-ltc/master/dict/ltc1812.txt\n",
            "Resolving raw.githubusercontent.com (raw.githubusercontent.com)... 151.101.0.133, 151.101.64.133, 151.101.128.133, ...\n",
            "Connecting to raw.githubusercontent.com (raw.githubusercontent.com)|151.101.0.133|:443... connected.\n",
            "HTTP request sent, awaiting response... 200 OK\n",
            "Length: 174 [text/plain]\n",
            "Saving to: ‘ltc1812.txt’\n",
            "\n",
            "\rltc1812.txt           0%[                    ]       0  --.-KB/s               \rltc1812.txt         100%[===================>]     174  --.-KB/s    in 0s      \n",
            "\n",
            "Last-modified header missing -- time-stamps turned off.\n",
            "2018-12-02 02:39:45 (19.9 MB/s) - ‘ltc1812.txt’ saved [174/174]\n",
            "\n"
          ],
          "name": "stdout"
        }
      ]
    },
    {
      "metadata": {
        "id": "gqd_O8x4vKLp",
        "colab_type": "code",
        "colab": {
          "base_uri": "https://localhost:8080/",
          "height": 153
        },
        "outputId": "0b60ccaf-4622-4c10-8ec8-0f7d88a1d43b"
      },
      "cell_type": "code",
      "source": [
        "! ls -al"
      ],
      "execution_count": 17,
      "outputs": [
        {
          "output_type": "stream",
          "text": [
            "total 8420\n",
            "drwxr-xr-x 1 root root    4096 Dec  2 02:38 .\n",
            "drwxr-xr-x 1 root root    4096 Dec  2 00:39 ..\n",
            "drwxr-xr-x 1 root root    4096 Nov 29 18:21 .config\n",
            "-rw-r--r-- 1 root root 8583143 Dec  2 02:24 dict.txt.big\n",
            "-rw-r--r-- 1 root root     174 Dec  2 02:39 ltc1812.txt\n",
            "-rw-r--r-- 1 root root     174 Dec  2 02:38 ltc1812.txt.1\n",
            "drwxr-xr-x 2 root root    4096 Nov 29 18:21 sample_data\n"
          ],
          "name": "stdout"
        }
      ]
    },
    {
      "metadata": {
        "id": "RDkSpAXmvPlg",
        "colab_type": "code",
        "colab": {
          "base_uri": "https://localhost:8080/",
          "height": 119
        },
        "outputId": "065e153e-dc26-43f4-fd47-5b008a318370"
      },
      "cell_type": "code",
      "source": [
        "jieba.set_dictionary(\"dict.txt.big\")\n",
        "testCut(target)\n",
        "testCutAll(target)"
      ],
      "execution_count": 12,
      "outputs": [
        {
          "output_type": "stream",
          "text": [
            "Building prefix dict from /content/dict.txt.big ...\n",
            "Loading model from cache /tmp/jieba.u501edca284da514cb68b53a20324f4e3.cache\n",
            "Loading model cost 1.589 seconds.\n",
            "Prefix dict has been built succesfully.\n"
          ],
          "name": "stderr"
        },
        {
          "output_type": "stream",
          "text": [
            "Full Mode: 台/ 中長/ 照照/ 專一/ 級/ 棒\n",
            "Full Mode: 台中/ 中長/ 照/ 照/ 專一/ 一級/ 棒\n"
          ],
          "name": "stdout"
        }
      ]
    },
    {
      "metadata": {
        "id": "z6WBnxZHY9Cf",
        "colab_type": "code",
        "outputId": "c1a0a817-1fa1-430e-a175-4129d63ca35f",
        "colab": {
          "base_uri": "https://localhost:8080/",
          "height": 51
        }
      },
      "cell_type": "code",
      "source": [
        "jieba.load_userdict(\"ltc1812.txt\")\n",
        "testCut(target)\n",
        "testCutAll(target)"
      ],
      "execution_count": 18,
      "outputs": [
        {
          "output_type": "stream",
          "text": [
            "Full Mode: 台/ 中/ 長照/ 照專/ 一級/ 棒\n",
            "Full Mode: 台中/ 中長/ 長照/ 照專/ 專一/ 一級/ 棒\n"
          ],
          "name": "stdout"
        }
      ]
    }
  ]
}