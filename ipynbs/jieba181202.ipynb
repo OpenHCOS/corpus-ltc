{
  "nbformat": 4,
  "nbformat_minor": 0,
  "metadata": {
    "colab": {
      "name": "jieba181202.ipynb",
      "version": "0.3.2",
      "provenance": []
    },
    "kernelspec": {
      "name": "python3",
      "display_name": "Python 3"
    }
  },
  "cells": [
    {
      "metadata": {
        "id": "NHVSLz6cX0ii",
        "colab_type": "code",
        "colab": {
          "base_uri": "https://localhost:8080/",
          "height": 34
        },
        "outputId": "aa501cc7-b26c-4611-8db9-c80fc845bc93"
      },
      "cell_type": "code",
      "source": [
        "! pip install jieba"
      ],
      "execution_count": 5,
      "outputs": [
        {
          "output_type": "stream",
          "text": [
            "Requirement already satisfied: jieba in /usr/local/lib/python3.6/dist-packages (0.39)\n"
          ],
          "name": "stdout"
        }
      ]
    },
    {
      "metadata": {
        "id": "QEdcasjrYNmn",
        "colab_type": "code",
        "colab": {
          "base_uri": "https://localhost:8080/",
          "height": 34
        },
        "outputId": "f782488c-5cdf-44e8-8e4c-86bb4de27080"
      },
      "cell_type": "code",
      "source": [
        "import jieba\n",
        "def testCut():\n",
        "  seg_list = jieba.cut(\"台中長照一級棒\", cut_all=True)\n",
        "  print(\"Full Mode: \" + \"/ \".join(seg_list)) \n",
        "testCut()"
      ],
      "execution_count": 10,
      "outputs": [
        {
          "output_type": "stream",
          "text": [
            "Full Mode: 台中/ 長照/ 一級/ 棒\n"
          ],
          "name": "stdout"
        }
      ]
    },
    {
      "metadata": {
        "id": "z6WBnxZHY9Cf",
        "colab_type": "code",
        "colab": {
          "base_uri": "https://localhost:8080/",
          "height": 34
        },
        "outputId": "3f0e9252-b18b-4975-c834-9958ca31afa2"
      },
      "cell_type": "code",
      "source": [
        "jieba.add_word('長照')\n",
        "jieba.add_word('一級')\n",
        "testCut()"
      ],
      "execution_count": 11,
      "outputs": [
        {
          "output_type": "stream",
          "text": [
            "Full Mode: 台中/ 長照/ 一級/ 棒\n"
          ],
          "name": "stdout"
        }
      ]
    },
    {
      "metadata": {
        "id": "0Y_SApZuZi5A",
        "colab_type": "text"
      },
      "cell_type": "markdown",
      "source": [
        "## 後續應用名稱\n",
        "\n",
        "jieba自訂長照類辭典未來將從 github.com/OpenHCOS/corpus-ltc/dict/ltc1812.txt\n",
        "\n",
        "\n",
        "```\n",
        "! wget https://raw.githubusercontent.com/OpenHCOS/corpus-ltc/master/dict/ltc1812.txt\n",
        "jieba.load_userdict(\"ltc1812.txt\")\n",
        "```\n",
        "\n",
        "- 载入词典 \n",
        " https://github.com/fxsjy/jieba#%E8%BD%BD%E5%85%A5%E8%AF%8D%E5%85%B8\n"
      ]
    }
  ]
}